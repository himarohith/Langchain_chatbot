{
 "cells": [
  {
   "cell_type": "code",
   "execution_count": 1,
   "id": "9af6aa7e",
   "metadata": {},
   "outputs": [
    {
     "name": "stderr",
     "output_type": "stream",
     "text": [
      "C:\\Users\\vthammuneni\\Anaconda3\\envs\\tf\\lib\\site-packages\\pinecone\\index.py:4: TqdmExperimentalWarning: Using `tqdm.autonotebook.tqdm` in notebook mode. Use `tqdm.tqdm` instead to force console mode (e.g. in jupyter console)\n",
      "  from tqdm.autonotebook import tqdm\n"
     ]
    },
    {
     "data": {
      "text/plain": [
       "True"
      ]
     },
     "execution_count": 1,
     "metadata": {},
     "output_type": "execute_result"
    }
   ],
   "source": [
    "import openai\n",
    "import langchain\n",
    "from dotenv import load_dotenv,find_dotenv\n",
    "\n",
    "from langchain.llms import OpenAI\n",
    "from langchain.chat_models import ChatOpenAI\n",
    "from langchain import PromptTemplate\n",
    "from langchain.chains import LLMChain\n",
    "from langchain.chains import SimpleSequentialChain\n",
    "from langchain.text_splitter import RecursiveCharacterTextSplitter\n",
    "from langchain.embeddings import OpenAIEmbeddings\n",
    "from langchain.agents.agent_toolkits import create_python_agent\n",
    "from langchain.tools.python.tool import PythonREPLTool\n",
    "from langchain.python import PythonREPL\n",
    "#from langchain.llms.openai import OpenAI\n",
    "from langchain.document_loaders import DirectoryLoader\n",
    "from langchain.document_loaders import PyPDFDirectoryLoader\n",
    "from langchain.document_loaders import PyPDFLoader\n",
    "from langchain.document_loaders import JSONLoader\n",
    "from langchain.document_loaders import Docx2txtLoader\n",
    "from langchain.text_splitter import RecursiveCharacterTextSplitter\n",
    "\n",
    "import json\n",
    "from pathlib import Path\n",
    "from pprint import pprint\n",
    "import pinecone\n",
    "from tqdm.notebook import tqdm # need this to stop warning\n",
    "\n",
    "import os\n",
    "import pinecone # pip3 install \"pinecone-client[grpc]\"\n",
    "from langchain.vectorstores import Pinecone\n",
    "\n",
    "from pprint import pprint # pretty print\n",
    "\n",
    "# load environmnet variables\n",
    "load_dotenv('.env')"
   ]
  },
  {
   "cell_type": "code",
   "execution_count": 2,
   "id": "3528236a",
   "metadata": {},
   "outputs": [],
   "source": [
    "### Load only the syllabus summaerized text files"
   ]
  },
  {
   "cell_type": "code",
   "execution_count": 33,
   "id": "d838d94f",
   "metadata": {},
   "outputs": [
    {
     "name": "stderr",
     "output_type": "stream",
     "text": [
      "Error loading file check\\~$23 Spring_ISM 6251-002-Data Science Programming_Smith, Tim.docx: Package not found at 'check\\~$23 Spring_ISM 6251-002-Data Science Programming_Smith, Tim.docx'\n"
     ]
    },
    {
     "data": {
      "text/plain": [
       "3"
      ]
     },
     "execution_count": 33,
     "metadata": {},
     "output_type": "execute_result"
    }
   ],
   "source": [
    "directory = './check/'\n",
    "\n",
    "def load_docs(directory):\n",
    "  loader = DirectoryLoader(directory,silent_errors=True)\n",
    "  documents = loader.load()\n",
    "  return documents\n",
    "\n",
    "documents_text = load_docs(directory)\n",
    "len(documents_text)"
   ]
  },
  {
   "cell_type": "code",
   "execution_count": 34,
   "id": "b2dc8af6",
   "metadata": {},
   "outputs": [],
   "source": [
    "def split_docs(documents,chunk_size=300,chunk_overlap=100):\n",
    "  text_splitter = RecursiveCharacterTextSplitter(chunk_size=chunk_size, chunk_overlap=chunk_overlap)\n",
    "  docs = text_splitter.split_documents(documents)\n",
    "  return docs"
   ]
  },
  {
   "cell_type": "code",
   "execution_count": 35,
   "id": "52172e3a",
   "metadata": {},
   "outputs": [],
   "source": [
    "docs_docx = split_docs(documents_text)"
   ]
  },
  {
   "cell_type": "code",
   "execution_count": 36,
   "id": "e0c81610",
   "metadata": {},
   "outputs": [
    {
     "data": {
      "text/plain": [
       "'Each module contains lecture slides, assignments, quizzes, and other materials. Professor: Dr. Tim Smith Course : ISM 6251-002-Data Science Programming.Course Topics: Data analytics techniques, tools and applications, machine learning techniques for analytics using Python, decision trees, gradient'"
      ]
     },
     "execution_count": 36,
     "metadata": {},
     "output_type": "execute_result"
    }
   ],
   "source": [
    "docs_docx[0].page_content"
   ]
  },
  {
   "cell_type": "code",
   "execution_count": 17,
   "id": "70024c74",
   "metadata": {},
   "outputs": [
    {
     "data": {
      "text/plain": [
       "9097"
      ]
     },
     "execution_count": 17,
     "metadata": {},
     "output_type": "execute_result"
    }
   ],
   "source": [
    "len(docs_docx)"
   ]
  },
  {
   "cell_type": "code",
   "execution_count": 18,
   "id": "24ea8e85",
   "metadata": {},
   "outputs": [],
   "source": [
    "## embedding\n",
    "embeddings = OpenAIEmbeddings(deployment=\"text-embedding-ada-002\")"
   ]
  },
  {
   "cell_type": "code",
   "execution_count": 19,
   "id": "b380b69c",
   "metadata": {},
   "outputs": [],
   "source": [
    "### Loading in to pinecone:"
   ]
  },
  {
   "cell_type": "code",
   "execution_count": 20,
   "id": "99da5465",
   "metadata": {},
   "outputs": [],
   "source": [
    "OPENAI_API_KEY = os.getenv(\"OPENAI_API_KEY\")\n",
    "PINECONE_API_KEY = os.getenv(\"PINECONE_API_KEY\")\n",
    "PINECONE_INDEX_NAME = os.getenv(\"PINECONE_INDEX_NAME\")\n",
    "PINECONE_ENVIRONMENT = os.getenv(\"PINECONE_ENV\")"
   ]
  },
  {
   "cell_type": "code",
   "execution_count": 21,
   "id": "272c43f4",
   "metadata": {},
   "outputs": [],
   "source": [
    "# create an index\n",
    "# NOTE: For free version, you can only create one index. If you want to create a new index, you need to delete the old one first.\n",
    "\n",
    "pinecone.init(api_key=PINECONE_API_KEY, environment=PINECONE_ENVIRONMENT)\n",
    "\n",
    "#pinecone.delete_index(\"chatbot\")\n",
    "\n",
    "pinecone.create_index(\"chatbot\", dimension=1536) # 1536 is openai ada embedding dimension"
   ]
  },
  {
   "cell_type": "code",
   "execution_count": 22,
   "id": "54bf0eaf",
   "metadata": {},
   "outputs": [],
   "source": [
    "index_name = \"chatbot\""
   ]
  },
  {
   "cell_type": "code",
   "execution_count": 23,
   "id": "b65b6dd1",
   "metadata": {},
   "outputs": [],
   "source": [
    "search = Pinecone.from_documents(docs_docx, embeddings, index_name=index_name)"
   ]
  },
  {
   "cell_type": "code",
   "execution_count": 24,
   "id": "9a0ce6e3",
   "metadata": {},
   "outputs": [],
   "source": [
    "### Documents from the web"
   ]
  },
  {
   "cell_type": "code",
   "execution_count": 25,
   "id": "d32e3ea4",
   "metadata": {},
   "outputs": [
    {
     "data": {
      "text/plain": [
       "21"
      ]
     },
     "execution_count": 25,
     "metadata": {},
     "output_type": "execute_result"
    }
   ],
   "source": [
    "directory = './All_Texts/'\n",
    "\n",
    "def load_docs(directory):\n",
    "  loader = DirectoryLoader(directory,silent_errors=True)\n",
    "  documents = loader.load()\n",
    "  return documents\n",
    "\n",
    "documents_text = load_docs(directory)\n",
    "len(documents_text)"
   ]
  },
  {
   "cell_type": "code",
   "execution_count": 26,
   "id": "095c8a0f",
   "metadata": {},
   "outputs": [],
   "source": [
    "def split_docs(documents,chunk_size=315,chunk_overlap=100):\n",
    "  text_splitter = RecursiveCharacterTextSplitter(chunk_size=chunk_size, chunk_overlap=chunk_overlap)\n",
    "  docs = text_splitter.split_documents(documents)\n",
    "  return docs"
   ]
  },
  {
   "cell_type": "code",
   "execution_count": 27,
   "id": "91a1380f",
   "metadata": {},
   "outputs": [],
   "source": [
    "docs_docx_1 = split_docs(documents_text)"
   ]
  },
  {
   "cell_type": "code",
   "execution_count": 28,
   "id": "7b69e5ef",
   "metadata": {},
   "outputs": [
    {
     "data": {
      "text/plain": [
       "1021"
      ]
     },
     "execution_count": 28,
     "metadata": {},
     "output_type": "execute_result"
    }
   ],
   "source": [
    "len(docs_docx_1)"
   ]
  },
  {
   "cell_type": "code",
   "execution_count": 29,
   "id": "9ec90840",
   "metadata": {},
   "outputs": [],
   "source": [
    "search = Pinecone.from_documents(docs_docx_1, embeddings, index_name=index_name)"
   ]
  },
  {
   "cell_type": "code",
   "execution_count": 30,
   "id": "397ed678",
   "metadata": {},
   "outputs": [],
   "source": [
    "############################### Checking the accuracy"
   ]
  },
  {
   "cell_type": "code",
   "execution_count": 31,
   "id": "f5189aad",
   "metadata": {},
   "outputs": [],
   "source": [
    "from langchain.vectorstores import Pinecone\n",
    "text_field = \"text\"\n",
    "\n",
    "# switch back to normal index for langchain\n",
    "index = pinecone.Index(index_name)"
   ]
  },
  {
   "cell_type": "code",
   "execution_count": 32,
   "id": "1f4914cf",
   "metadata": {},
   "outputs": [],
   "source": [
    "OPENAI_API_KEY = os.getenv(\"OPENAI_API_KEY\")"
   ]
  },
  {
   "cell_type": "code",
   "execution_count": 33,
   "id": "8e42e206",
   "metadata": {},
   "outputs": [],
   "source": [
    "from langchain.embeddings.openai import OpenAIEmbeddings\n",
    "\n",
    "model_name = 'text-embedding-ada-002'\n",
    "\n",
    "embed = OpenAIEmbeddings(\n",
    "    model=model_name,\n",
    "    openai_api_key=OPENAI_API_KEY\n",
    ")"
   ]
  },
  {
   "cell_type": "code",
   "execution_count": 34,
   "id": "8250b439",
   "metadata": {},
   "outputs": [
    {
     "name": "stderr",
     "output_type": "stream",
     "text": [
      "C:\\Users\\vthammuneni\\Anaconda3\\envs\\tf\\lib\\site-packages\\langchain\\vectorstores\\pinecone.py:59: UserWarning: Passing in `embedding` as a Callable is deprecated. Please pass in an Embeddings object instead.\n",
      "  warnings.warn(\n"
     ]
    }
   ],
   "source": [
    "vectorstore = Pinecone(\n",
    "    index, embed.embed_query, text_field\n",
    ")"
   ]
  },
  {
   "cell_type": "code",
   "execution_count": 35,
   "id": "bbd530e2",
   "metadata": {},
   "outputs": [
    {
     "data": {
      "text/plain": [
       "[(Document(page_content='get visa appointments at their local U.S. consulate or embassy. For the Spring semester, our application deadline is August 1 for international students and November 1 for domestic students. However, we admit most applicants in the Fall, and the number', metadata={'source': 'All_Texts\\\\Copy of usfmsbais.txt'}),\n",
       "  0.851526737),\n",
       " (Document(page_content='Drop/Add Deadline (Aug 25, 2023), Mid-term Grading Closes (Oct 17, 2023), Withdrawal Deadline (Oct 28, 2023), Test Free Week (Apr 22-28, 2023), and Final Examination Week (Dec 2-7, 2023).', metadata={'source': 'pdf_word\\\\QMB3200.902F23 & QMB3200.521F23 - Govindu.docx'}),\n",
       "  0.836478114)]"
      ]
     },
     "execution_count": 35,
     "metadata": {},
     "output_type": "execute_result"
    }
   ],
   "source": [
    "query = \"What is the appplication deadline for fall?\"\n",
    "\n",
    "vectorstore.similarity_search_with_score(query, k=2)"
   ]
  },
  {
   "cell_type": "code",
   "execution_count": 36,
   "id": "3a4652e3",
   "metadata": {},
   "outputs": [
    {
     "data": {
      "text/plain": [
       "[(Document(page_content='What are the different core and elective course options that I have for my MS-BAIS degree?\\n\\nMS\\n\\n\\n\\nBAIS core classes:', metadata={'source': 'All_Texts\\\\Copy of MS-BAIS Advising FAQ.txt'}),\n",
       "  0.888100088),\n",
       " (Document(page_content='The program requires a minimum of 33 credits, which must include 5 core classes, 3 MS-BAIS electives and 3 additional electives from our department or other departments if they are 6000 level courses relevant to the major. Most of these classes are 3 credits each. In addition, you can also take MS-BAIS', metadata={'source': 'All_Texts\\\\Copy of MS-BAIS Advising FAQ.txt'}),\n",
       "  0.871266961),\n",
       " (Document(page_content='How do I graduate from the BAIS program?', metadata={'source': 'All_Texts\\\\Copy of MS-BAIS Advising FAQ.txt'}),\n",
       "  0.863762617)]"
      ]
     },
     "execution_count": 36,
     "metadata": {},
     "output_type": "execute_result"
    }
   ],
   "source": [
    "query = \"What are the core courses for the bais program\"\n",
    "\n",
    "vectorstore.similarity_search_with_score(query, k=3)"
   ]
  },
  {
   "cell_type": "code",
   "execution_count": 37,
   "id": "7288c104",
   "metadata": {},
   "outputs": [
    {
     "data": {
      "text/plain": [
       "[(Document(page_content='Show Housing Options\\n\\nOverview\\n\\nApartment Style(https://www.usf.edu/housing/housing-options/apartment-style/index.aspx)\\n\\nSuite Style(https://www.usf.edu/housing/housing-options/suite-style/index.aspx)\\n\\nTraditional Style(https://www.usf.edu/housing/housing-options/traditional-style/index.aspx)', metadata={'source': 'All_Texts\\\\usf_on_campus_housing.txt'}),\n",
       "  0.85402596),\n",
       " (Document(page_content='The on-campus option is designed for students who need flexibility in their course work. Students will work with faculty to design the most effective course sequence and optional thesis/practicum /independent studies to meet the major curriculum requirements and accomplish their career goals.', metadata={'source': 'All_Texts\\\\Copy of usfmsbais.txt'}),\n",
       "  0.85029459)]"
      ]
     },
     "execution_count": 37,
     "metadata": {},
     "output_type": "execute_result"
    }
   ],
   "source": [
    "query = \"What are the oncampus housing options?\"\n",
    "\n",
    "vectorstore.similarity_search_with_score(query, k=2)"
   ]
  },
  {
   "cell_type": "code",
   "execution_count": 38,
   "id": "998c6830",
   "metadata": {},
   "outputs": [
    {
     "data": {
      "text/plain": [
       "[(Document(page_content='Course Topics: Introduction to Project, Program, and Portfolio Management, Agile Mindset, Project Management in Practice, Project Management Software, Differences between Predictive Agile, and Hybrid Project Management, Project Scope & Work Breakdown Structure (WBS), Project Scheduling & Gantt', metadata={'source': 'pdf_word\\\\ISM 6316 - McNair.docx'}),\n",
       "  0.894224763),\n",
       " (Document(page_content='This is a course on Project Management with Agility taught by Professor Bhuvan Unhelkar. The topics covered include Agile Methodologies, Planning, Estimation, Risk Management, Quality Management, Change Management, Monitoring and Control, Team Management and Leadership. Assessments include', metadata={'source': 'pdf_word\\\\2023 Spring_ISM 4314-521_Project Management_Unhelkar, Bhuvan.docx'}),\n",
       "  0.894158423)]"
      ]
     },
     "execution_count": 38,
     "metadata": {},
     "output_type": "execute_result"
    }
   ],
   "source": [
    "query = \"Project management course syllabus \"\n",
    "\n",
    "vectorstore.similarity_search_with_score(query, k=2)"
   ]
  },
  {
   "cell_type": "code",
   "execution_count": 39,
   "id": "04a774f2",
   "metadata": {},
   "outputs": [
    {
     "data": {
      "text/plain": [
       "[(Document(page_content='Professor: Dr. John Smith', metadata={'source': 'pdf_word\\\\2023 Spring_ISM 4212- 020_Database Administration and Design_ Hyman_Harvey  .docx'}),\n",
       "  0.880958796),\n",
       " (Document(page_content='Each module contains lecture slides, assignments, quizzes, and other materials. Professor: Dr. Tim Smith', metadata={'source': 'pdf_word\\\\cleaned_2023 Spring_ISM 6251-002-Data Science Programming_Smith, Tim.docx'}),\n",
       "  0.879039228),\n",
       " (Document(page_content='Each module contains lecture slides, \\nassignments, quizzes, and other materials. \\n \\nProfessor: Dr. Tim Smith', metadata={'source': 'pdf_word\\\\2023 Spring_ISM 6251-002-Data Science Programming_Smith, Tim.docx'}),\n",
       "  0.872119069)]"
      ]
     },
     "execution_count": 39,
     "metadata": {},
     "output_type": "execute_result"
    }
   ],
   "source": [
    "query = \"what does professor Tim Smith teach \"\n",
    "vectorstore.similarity_search_with_score(query, k=3)"
   ]
  },
  {
   "cell_type": "code",
   "execution_count": 40,
   "id": "147e81bb",
   "metadata": {},
   "outputs": [
    {
     "data": {
      "text/plain": [
       "[(Document(page_content='In addition, certain core MS-BAIS classes like Advanced Database Management have pre-program prerequisites such as a database prerequisite, which can be met by virtue of a prior course in database management from your previous university or adequate working experience with databases in a corporate environment.', metadata={'source': 'All_Texts\\\\Copy of Course Registration.txt'}),\n",
       "  0.891857147),\n",
       " (Document(page_content='Admission Information\\n\\nMust meet University Admission and English Proficiency requirements , as well as requirements for admission to the major, listed below. Students are admitted to the M.S./BAIS program based on the evaluation of their application in its entirety, including:', metadata={'source': 'All_Texts\\\\Copy of usfmsbais.txt'}),\n",
       "  0.889007628),\n",
       " (Document(page_content='and Information Systems (MS-BAIS) program. The program is designed to provide students with the knowledge and skills to become successful business analytics and information systems professionals. The program is led by Professor [name], and covers topics such as web application development, software', metadata={'source': 'pdf_word\\\\cleaned_brochure-graduate-bais.docx'}),\n",
       "  0.884840071)]"
      ]
     },
     "execution_count": 40,
     "metadata": {},
     "output_type": "execute_result"
    }
   ],
   "source": [
    "query = \"Business realted prerequisities for the MS BAIS program\"\n",
    "\n",
    "vectorstore.similarity_search_with_score(query, k=3)"
   ]
  },
  {
   "cell_type": "code",
   "execution_count": null,
   "id": "9bed4a50",
   "metadata": {},
   "outputs": [],
   "source": []
  }
 ],
 "metadata": {
  "kernelspec": {
   "display_name": "Python 3 (ipykernel)",
   "language": "python",
   "name": "python3"
  },
  "language_info": {
   "codemirror_mode": {
    "name": "ipython",
    "version": 3
   },
   "file_extension": ".py",
   "mimetype": "text/x-python",
   "name": "python",
   "nbconvert_exporter": "python",
   "pygments_lexer": "ipython3",
   "version": "3.9.16"
  }
 },
 "nbformat": 4,
 "nbformat_minor": 5
}
