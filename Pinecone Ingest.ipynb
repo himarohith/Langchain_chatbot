{
 "cells": [
  {
   "cell_type": "code",
   "execution_count": 32,
   "id": "418b0dcd",
   "metadata": {},
   "outputs": [
    {
     "data": {
      "text/plain": [
       "True"
      ]
     },
     "execution_count": 32,
     "metadata": {},
     "output_type": "execute_result"
    }
   ],
   "source": [
    "import openai\n",
    "import langchain\n",
    "from dotenv import load_dotenv,find_dotenv\n",
    "\n",
    "from langchain.llms import OpenAI\n",
    "from langchain.chat_models import ChatOpenAI\n",
    "from langchain import PromptTemplate\n",
    "from langchain.chains import LLMChain\n",
    "from langchain.chains import SimpleSequentialChain\n",
    "from langchain.text_splitter import RecursiveCharacterTextSplitter\n",
    "from langchain.embeddings import OpenAIEmbeddings\n",
    "from langchain.agents.agent_toolkits import create_python_agent\n",
    "from langchain.tools.python.tool import PythonREPLTool\n",
    "from langchain.python import PythonREPL\n",
    "#from langchain.llms.openai import OpenAI\n",
    "from langchain.document_loaders import DirectoryLoader\n",
    "from langchain.document_loaders import PyPDFDirectoryLoader\n",
    "from langchain.document_loaders import PyPDFLoader\n",
    "from langchain.document_loaders import JSONLoader\n",
    "from langchain.document_loaders import Docx2txtLoader\n",
    "from langchain.text_splitter import RecursiveCharacterTextSplitter\n",
    "\n",
    "import json\n",
    "from pathlib import Path\n",
    "from pprint import pprint\n",
    "import pinecone\n",
    "from tqdm.notebook import tqdm # need this to stop warning\n",
    "\n",
    "import os\n",
    "import pinecone # pip3 install \"pinecone-client[grpc]\"\n",
    "from langchain.vectorstores import Pinecone\n",
    "\n",
    "from pprint import pprint # pretty print\n",
    "\n",
    "# load environmnet variables\n",
    "load_dotenv('.env')"
   ]
  },
  {
   "cell_type": "code",
   "execution_count": 33,
   "id": "4d97643f",
   "metadata": {},
   "outputs": [],
   "source": [
    "### Load only the syllabus summaerized text files"
   ]
  },
  {
   "cell_type": "code",
   "execution_count": 34,
   "id": "ec8ce0b4",
   "metadata": {},
   "outputs": [
    {
     "data": {
      "text/plain": [
       "284"
      ]
     },
     "execution_count": 34,
     "metadata": {},
     "output_type": "execute_result"
    }
   ],
   "source": [
    "directory = './pdf_word/'\n",
    "\n",
    "def load_docs(directory):\n",
    "  loader = DirectoryLoader(directory,silent_errors=True)\n",
    "  documents = loader.load()\n",
    "  return documents\n",
    "\n",
    "documents_text = load_docs(directory)\n",
    "len(documents_text)"
   ]
  },
  {
   "cell_type": "code",
   "execution_count": 35,
   "id": "36a0f78f",
   "metadata": {},
   "outputs": [],
   "source": [
    "def split_docs(documents,chunk_size=950,chunk_overlap=100):\n",
    "  text_splitter = RecursiveCharacterTextSplitter(chunk_size=chunk_size, chunk_overlap=chunk_overlap)\n",
    "  docs = text_splitter.split_documents(documents)\n",
    "  return docs"
   ]
  },
  {
   "cell_type": "code",
   "execution_count": 36,
   "id": "1b5094f5",
   "metadata": {},
   "outputs": [],
   "source": [
    "docs_docx = split_docs(documents_text)"
   ]
  },
  {
   "cell_type": "code",
   "execution_count": 38,
   "id": "c5ef6efd",
   "metadata": {},
   "outputs": [
    {
     "data": {
      "text/plain": [
       "'Final Exam (30%): The final exam will be based on course content covered throughout the course. Professor Terry A. Boyd is teaching Human Resource Management (MAN3301) at the Muma College of Business, University of South Florida in the Spring 2023 semester. The course will cover topics such as the mission/values of the organization and its relationship to HRM, staffing, employee training/development, compensation, and societal responsibility of the organization. Students will be assessed through participation/blogs (20%), quizzes (30%), mid-term exam (20%) and final exam (30%). The course will help students to become fully acquainted with the academic concepts of HRM and apply them to day to day situations at the workplace.This document is about the Human Resource Management Course at the MUMA College of Business, taught by Professor X. The course topics include a mid-term, final exam, Tableau Assignment, course policies on grades and'"
      ]
     },
     "execution_count": 38,
     "metadata": {},
     "output_type": "execute_result"
    }
   ],
   "source": [
    "docs_docx[0].page_content"
   ]
  },
  {
   "cell_type": "code",
   "execution_count": 39,
   "id": "32b78cc9",
   "metadata": {},
   "outputs": [
    {
     "data": {
      "text/plain": [
       "1158"
      ]
     },
     "execution_count": 39,
     "metadata": {},
     "output_type": "execute_result"
    }
   ],
   "source": [
    "len(docs_docx)"
   ]
  },
  {
   "cell_type": "code",
   "execution_count": 40,
   "id": "21ff0519",
   "metadata": {},
   "outputs": [],
   "source": [
    "## embedding\n",
    "embeddings = OpenAIEmbeddings(deployment=\"text-embedding-ada-002\")"
   ]
  },
  {
   "cell_type": "code",
   "execution_count": 41,
   "id": "9df8f34f",
   "metadata": {},
   "outputs": [],
   "source": [
    "### Loading in to pinecone:"
   ]
  },
  {
   "cell_type": "code",
   "execution_count": 42,
   "id": "9a726d96",
   "metadata": {},
   "outputs": [],
   "source": [
    "OPENAI_API_KEY = os.getenv(\"OPENAI_API_KEY\")\n",
    "PINECONE_API_KEY = os.getenv(\"PINECONE_API_KEY\")\n",
    "PINECONE_INDEX_NAME = os.getenv(\"PINECONE_INDEX_NAME\")\n",
    "PINECONE_ENVIRONMENT = os.getenv(\"PINECONE_ENV\")"
   ]
  },
  {
   "cell_type": "code",
   "execution_count": 43,
   "id": "3f328761",
   "metadata": {},
   "outputs": [],
   "source": [
    "# create an index\n",
    "# NOTE: For free version, you can only create one index. If you want to create a new index, you need to delete the old one first.\n",
    "\n",
    "pinecone.init(api_key=PINECONE_API_KEY, environment=PINECONE_ENVIRONMENT)\n",
    "\n",
    "#pinecone.delete_index(\"chatbot\")\n",
    "\n",
    "pinecone.create_index(\"chatbot\", dimension=1536) # 1536 is openai ada embedding dimension"
   ]
  },
  {
   "cell_type": "code",
   "execution_count": 44,
   "id": "d9d394c5",
   "metadata": {},
   "outputs": [],
   "source": [
    "index_name = \"chatbot\""
   ]
  },
  {
   "cell_type": "code",
   "execution_count": 45,
   "id": "c392b04a",
   "metadata": {},
   "outputs": [],
   "source": [
    "search = Pinecone.from_documents(docs_docx, embeddings, index_name=index_name)"
   ]
  },
  {
   "cell_type": "code",
   "execution_count": 46,
   "id": "6b6f2057",
   "metadata": {},
   "outputs": [],
   "source": [
    "### Documents from the web"
   ]
  },
  {
   "cell_type": "code",
   "execution_count": 47,
   "id": "5fbac9ac",
   "metadata": {},
   "outputs": [
    {
     "data": {
      "text/plain": [
       "21"
      ]
     },
     "execution_count": 47,
     "metadata": {},
     "output_type": "execute_result"
    }
   ],
   "source": [
    "directory = './All_Texts/'\n",
    "\n",
    "def load_docs(directory):\n",
    "  loader = DirectoryLoader(directory,silent_errors=True)\n",
    "  documents = loader.load()\n",
    "  return documents\n",
    "\n",
    "documents_text = load_docs(directory)\n",
    "len(documents_text)"
   ]
  },
  {
   "cell_type": "code",
   "execution_count": 48,
   "id": "7f76c069",
   "metadata": {},
   "outputs": [],
   "source": [
    "def split_docs(documents,chunk_size=500,chunk_overlap=40):\n",
    "  text_splitter = RecursiveCharacterTextSplitter(chunk_size=chunk_size, chunk_overlap=chunk_overlap)\n",
    "  docs = text_splitter.split_documents(documents)\n",
    "  return docs"
   ]
  },
  {
   "cell_type": "code",
   "execution_count": 49,
   "id": "09b3f659",
   "metadata": {},
   "outputs": [],
   "source": [
    "docs_docx_1 = split_docs(documents_text)"
   ]
  },
  {
   "cell_type": "code",
   "execution_count": 50,
   "id": "a80227b6",
   "metadata": {},
   "outputs": [
    {
     "data": {
      "text/plain": [
       "516"
      ]
     },
     "execution_count": 50,
     "metadata": {},
     "output_type": "execute_result"
    }
   ],
   "source": [
    "len(docs_docx_1)"
   ]
  },
  {
   "cell_type": "code",
   "execution_count": 51,
   "id": "c07a2521",
   "metadata": {},
   "outputs": [],
   "source": [
    "search = Pinecone.from_documents(docs_docx_1, embeddings, index_name=index_name)"
   ]
  },
  {
   "cell_type": "code",
   "execution_count": 52,
   "id": "5a897c35",
   "metadata": {},
   "outputs": [],
   "source": [
    "############################### Checking the accuracy"
   ]
  },
  {
   "cell_type": "code",
   "execution_count": 53,
   "id": "bce1121c",
   "metadata": {},
   "outputs": [],
   "source": [
    "from langchain.vectorstores import Pinecone\n",
    "text_field = \"text\"\n",
    "\n",
    "# switch back to normal index for langchain\n",
    "index = pinecone.Index(index_name)"
   ]
  },
  {
   "cell_type": "code",
   "execution_count": 54,
   "id": "b98abdb7",
   "metadata": {},
   "outputs": [],
   "source": [
    "OPENAI_API_KEY = os.getenv(\"OPENAI_API_KEY\")"
   ]
  },
  {
   "cell_type": "code",
   "execution_count": 55,
   "id": "0a32f5bb",
   "metadata": {},
   "outputs": [],
   "source": [
    "from langchain.embeddings.openai import OpenAIEmbeddings\n",
    "\n",
    "model_name = 'text-embedding-ada-002'\n",
    "\n",
    "embed = OpenAIEmbeddings(\n",
    "    model=model_name,\n",
    "    openai_api_key=OPENAI_API_KEY\n",
    ")"
   ]
  },
  {
   "cell_type": "code",
   "execution_count": 56,
   "id": "0eda2804",
   "metadata": {},
   "outputs": [],
   "source": [
    "vectorstore = Pinecone(\n",
    "    index, embed.embed_query, text_field\n",
    ")"
   ]
  },
  {
   "cell_type": "code",
   "execution_count": 57,
   "id": "93c5c7c7",
   "metadata": {},
   "outputs": [
    {
     "data": {
      "text/plain": [
       "[(Document(page_content='Science this semester. Important dates to remember include the Drop/Add Deadline on Jan 14, Fall Graduation Application Deadline on Feb 7, Withdrawal Deadline on March 26, MLK Day Observed Holiday on Jan 17, Spring Break from March 14-20, Test Free Week, and Final Examinations from Apr 23-29 and Apr 30-May 5. Due to Covid, Professor Smith will deliver the course in-person and provide a flexible component for students who are asked to isolate or quarantine, or feel unable to attend a class in-person for health reasons.', metadata={'source': 'pdf_word\\\\cleaned_2023 Spring_MAN 4402-902_Employment Laws_Papp,Timothy.docx'}),\n",
       "  0.83433044),\n",
       " (Document(page_content='students. These resources provide services such as counseling, tutoring, writing consultations, victim advocacy, and medical services. Appointments are recommended but not required. Contact information for each resource is available online. Important dates to remember include the semester start date, drop/add deadline, mid-term grading open and close dates, withdrawal deadline, last day of class, and exam end date. Grades will be visible in OASIS on August 11, 2022.', metadata={'source': 'pdf_word\\\\cleaned_2023 Summer - QMB3200.591U23 - Business & Economic Statistics II Syllabus - R Govindu.docx'}),\n",
       "  0.83364141)]"
      ]
     },
     "execution_count": 57,
     "metadata": {},
     "output_type": "execute_result"
    }
   ],
   "source": [
    "query = \"What is the appplication deadline for fall?\"\n",
    "\n",
    "vectorstore.similarity_search_with_score(query, k=2)"
   ]
  },
  {
   "cell_type": "code",
   "execution_count": 58,
   "id": "a3371fc4",
   "metadata": {},
   "outputs": [
    {
     "data": {
      "text/plain": [
       "[(Document(page_content='Course Summary This course is an opportunity for Master of Science Business Analytics and Information Systems (MS BAIS) to gain insights into opportunities and challenges of decision-making in contemporary business situations.The instructor is Dr. Priya Dozier and the course topics include the development of enterprise transaction processing applications, relational database management, database sharing, CASE methodology and project management techniques.Students will be required to purchase a course pack of simulations via HBR Publishing and the final grades will be calculated according to the points scale. This course is Enterprise Information Systems Management, taught by Dr. Priya Dozier. It is a capstone course for Master of Science Business Analytics and Information Systems (MS BAIS) students, and it bridges the gap between technology systems/projects and strategic/tactical business decisions. Topics include the development of', metadata={'source': 'pdf_word\\\\cleaned_2023 Spring_ISM 6155-903_Enterprise Information Systems Management_Dozier, Priya.docx'}),\n",
       "  0.837194562),\n",
       " (Document(page_content='Course Summary This course is an opportunity for Master of Science Business Analytics and Information Systems (MS BAIS) to gain insights into opportunities and challenges of decision-making in contemporary business situations.The instructor is Dr. Priya Dozier and the course topics include development of enterprise transaction processing applications, relational database management, database sharing, CASE methodology and project management techniques.Students will be required to purchase a course pack via HBR Publishing and will be graded according to the grading scale. This course is Enterprise Information Systems Management, taught by Dr. Priya Dozier. It is a capstone course for Master of Science Business Analytics and Information Systems (MS BAIS) students, and covers topics such as development of enterprise transaction processing applications, relational database management, database sharing, CASE methodology and project management', metadata={'source': 'pdf_word\\\\cleaned_ISM 6155.901 - Dozier.docx'}),\n",
       "  0.836204469),\n",
       " (Document(page_content='Course Summary This course is an opportunity for Master of Science Business Analytics and Information Systems (MS BAIS) to gain insights into opportunities and challenges of decision-making in contemporary business situations.The instructor is Dr. Priya Dozier and the course topics include development of enterprise transaction processing applications, relational database management, database sharing, CASE methodology and project management techniques.Students will be required to purchase a course pack via HBR Publishing and will be graded according to the grading scale. This course is Enterprise Information Systems Management, taught by Dr. Priya Dozier. It is a capstone course for Master of Science Business Analytics and Information Systems (MS BAIS) students, designed to provide insights into opportunities and challenges of decision-making in contemporary business situations. Topics include development of enterprise transaction', metadata={'source': 'pdf_word\\\\cleaned_ISM 6155.001 - Dozier.docx'}),\n",
       "  0.834444344)]"
      ]
     },
     "execution_count": 58,
     "metadata": {},
     "output_type": "execute_result"
    }
   ],
   "source": [
    "query = \"What are the core courses for the bais program\"\n",
    "\n",
    "vectorstore.similarity_search_with_score(query, k=3)"
   ]
  },
  {
   "cell_type": "code",
   "execution_count": 59,
   "id": "bac15227",
   "metadata": {},
   "outputs": [
    {
     "data": {
      "text/plain": [
       "[(Document(page_content='Center, Student Outreach & Support, Ombudsman, Student Conduct & Ethical Development, Student Health Services, and the Dean of Students. It also provides off-campus confidential and non-confidential resources. Finally, it provides a disclaimer about the Campus Free Expression Act.', metadata={'source': 'pdf_word\\\\cleaned_ISM 6155.360 - Dozier.docx'}),\n",
       "  0.814621091),\n",
       " (Document(page_content='Accommodations. Confidential resources such as the Center for Victim Advocacy and Violence Prevention, the Counseling Center and Student Health Services are also available.Professor: QMB6358.040S23.25239 Data Analytics for Business. Course topics include: First Day Attendance Quiz, Getting Started Quiz, M1 Quiz, M1 Discussion, M2 Discussion, M2 Quiz, Kaggle Project Discussion, Kaggle Project Quiz 1, M3 Discussion, M3 Quiz, Kaggle Project Discussion, Tableau Dashboard Discussion, Tableau Dashboard Submission, Kaggle Project Quiz 2, Kaggle Project Discussion, Kaggle Project Quiz 3, M4 Discussion, Kaggle Competition, Extra Credit Submission, Course Evaluations, Your Data Story Flipgrid Video Upload.', metadata={'source': 'pdf_word\\\\cleaned_2023 Spring_QMB 6358-040_ Data Analytics for Business_Jank, Wolfgang.docx'}),\n",
       "  0.814173)]"
      ]
     },
     "execution_count": 59,
     "metadata": {},
     "output_type": "execute_result"
    }
   ],
   "source": [
    "query = \"What are the oncampus housing options?\"\n",
    "\n",
    "vectorstore.similarity_search_with_score(query, k=2)"
   ]
  },
  {
   "cell_type": "code",
   "execution_count": 60,
   "id": "b61322a2",
   "metadata": {},
   "outputs": [
    {
     "data": {
      "text/plain": [
       "[(Document(page_content='Course Topics: This course provides a practical understanding of Project Management (PM) with particular focus on its application in business organizations. It also focuses on understanding Agile Project Management (APM) and introduces Scrum as a popular Agile project management approach. The course further explores the important role of leadership together with its psycho-social aspects in enabling successful Agile adoption in the organization. Students will also use a relevant tool (Trello) to give them a taste of use of tools in online collaboration in an Agile project.The course is called \"Agile Project Management\" and is taught by Professor B Unhelkar. The course topics include recognizing project management basics including risks, scope, time, budget, quality and change management, recognizing the importance of agility in projects and organizational culture, demonstrating the use of agile techniques used in practical projects', metadata={'source': 'pdf_word\\\\cleaned_2023 Summer - ISM 6316 Project Mgmt - Bhuvanesh Unhelkar.docx'}),\n",
       "  0.887268424),\n",
       " (Document(page_content='Challenges in Practice, Project Management & Risks, Project Scope, Time & Cost Management, Scrum in Detail, Lean, Kaizen, SAFe, DAD, CAMS Iteration Planning, Backlog, Showcasing & Retrospective, Quality, Testing, Agile Adoption and Change Management, Leadership in Project Management, Repository of Agile Practices, Team Collaboration, Guest Lectures from Industry Professionals, Mid-term Quiz, End-term Final Quiz, Team Project Case Study and Team Project Collaboration. The course also covers Covid-19 Procedures and Standard University Policies.During this time, USF (SM) may opt to continue delivery of instruction through alternative methods, if possible.Prof. Bhuvan Unhelkar is teaching ISM 4314-Project Management in the Spring 2023 semester. The course topics include project management principles, project planning, scheduling, budgeting, risk management, project control, and project closure. It also covers the five learning outcomes of', metadata={'source': 'pdf_word\\\\cleaned_2023 Spring_ISM 4314-521_Project Management_Unhelkar, Bhuvan.docx'}),\n",
       "  0.885198176)]"
      ]
     },
     "execution_count": 60,
     "metadata": {},
     "output_type": "execute_result"
    }
   ],
   "source": [
    "query = \"Project management course syllabus \"\n",
    "\n",
    "vectorstore.similarity_search_with_score(query, k=2)"
   ]
  },
  {
   "cell_type": "code",
   "execution_count": 61,
   "id": "df670490",
   "metadata": {},
   "outputs": [
    {
     "data": {
      "text/plain": [
       "[(Document(page_content='Each module contains lecture slides, assignments, quizzes, and other materials. Professor: Dr. Tim Smith', metadata={'source': 'pdf_word\\\\cleaned_2023 Spring_ISM 6251-002-Data Science Programming_Smith, Tim.docx'}),\n",
       "  0.82448),\n",
       " (Document(page_content='Each module contains lecture slides, assignments, quizzes, and other materials.You will be expected to complete the assignments and quizzes for each module. Professor: Dr. Tim Smith', metadata={'source': 'pdf_word\\\\cleaned_2023 Spring_ISM 6251-003-Data Science Programming_Smith, Tim.docx'}),\n",
       "  0.802567959),\n",
       " (Document(page_content=\"What Nature Can Teach Us about Sustainable Business, and Interface Carpets and Sustainability Metrics. The final assignment is to prepare a 5 minute video summary of a randomly assigned chapter from Anderson's Business Lessons. The exam is an essay question due before 1:00 pm on April 21st and there are two reading days with no class.\", metadata={'source': 'pdf_word\\\\cleaned_2023 Spring_MAN 4743-001-Online-Response of Business to Global Environmental Problems_Jermier, John M.docx'}),\n",
       "  0.781363666)]"
      ]
     },
     "execution_count": 61,
     "metadata": {},
     "output_type": "execute_result"
    }
   ],
   "source": [
    "query = \"Tim Smith \"\n",
    "vectorstore.similarity_search_with_score(query, k=3)"
   ]
  },
  {
   "cell_type": "code",
   "execution_count": 62,
   "id": "224a7d8c",
   "metadata": {},
   "outputs": [
    {
     "data": {
      "text/plain": [
       "[(Document(page_content='Course Summary This course is an opportunity for Master of Science Business Analytics and Information Systems (MS BAIS) to gain insights into opportunities and challenges of decision-making in contemporary business situations.The instructor is Dr. Priya Dozier and the course topics include development of enterprise transaction processing applications, relational database management, database sharing, CASE methodology and project management techniques.Students will be required to purchase a course pack via HBR Publishing and will be graded according to the grading scale. This course is Enterprise Information Systems Management, taught by Dr. Priya Dozier. It is a capstone course for Master of Science Business Analytics and Information Systems (MS BAIS) students, and covers topics such as development of enterprise transaction processing applications, relational database management, database sharing, CASE methodology and project management', metadata={'source': 'pdf_word\\\\cleaned_ISM 6155.901 - Dozier.docx'}),\n",
       "  0.886387706),\n",
       " (Document(page_content='Course Summary This course is an opportunity for Master of Science Business Analytics and Information Systems (MS BAIS) to gain insights into opportunities and challenges of decision-making in contemporary business situations.The instructor is Dr. Priya Dozier and the course topics include the development of enterprise transaction processing applications, relational database management, database sharing, CASE methodology and project management techniques.Students will be required to purchase a course pack of simulations via HBR Publishing and the final grades will be calculated according to the points scale. This course is Enterprise Information Systems Management, taught by Dr. Priya Dozier. It is a capstone course for Master of Science Business Analytics and Information Systems (MS BAIS) students, and it bridges the gap between technology systems/projects and strategic/tactical business decisions. Topics include the development of', metadata={'source': 'pdf_word\\\\cleaned_2023 Spring_ISM 6155-903_Enterprise Information Systems Management_Dozier, Priya.docx'}),\n",
       "  0.885935307),\n",
       " (Document(page_content='Course Summary This course is an opportunity for Master of Science Business Analytics and Information Systems (MS BAIS) to gain insights into opportunities and challenges of decision-making in contemporary business situations.The instructor is Dr. Priya Dozier and the course topics include development of enterprise transaction processing applications, relational database management, database sharing, CASE methodology and project management techniques.Students will be required to purchase a course pack via HBR Publishing and will be graded according to the grading scale. This course is Enterprise Information Systems Management, taught by Dr. Priya Dozier. It is a capstone course for Master of Science Business Analytics and Information Systems (MS BAIS) students, designed to provide insights into opportunities and challenges of decision-making in contemporary business situations. Topics include development of enterprise transaction', metadata={'source': 'pdf_word\\\\cleaned_ISM 6155.001 - Dozier.docx'}),\n",
       "  0.883515894)]"
      ]
     },
     "execution_count": 62,
     "metadata": {},
     "output_type": "execute_result"
    }
   ],
   "source": [
    "query = \"Business realted prerequisities for the MS BAIS program\"\n",
    "\n",
    "vectorstore.similarity_search_with_score(query, k=3)"
   ]
  },
  {
   "cell_type": "code",
   "execution_count": null,
   "id": "5aa1e544",
   "metadata": {},
   "outputs": [],
   "source": []
  }
 ],
 "metadata": {
  "kernelspec": {
   "display_name": "Python 3 (ipykernel)",
   "language": "python",
   "name": "python3"
  },
  "language_info": {
   "codemirror_mode": {
    "name": "ipython",
    "version": 3
   },
   "file_extension": ".py",
   "mimetype": "text/x-python",
   "name": "python",
   "nbconvert_exporter": "python",
   "pygments_lexer": "ipython3",
   "version": "3.9.16"
  }
 },
 "nbformat": 4,
 "nbformat_minor": 5
}
